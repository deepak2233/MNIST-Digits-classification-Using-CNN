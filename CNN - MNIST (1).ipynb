{
 "cells": [
  {
   "cell_type": "markdown",
   "metadata": {},
   "source": [
    "# MNSIT Digit classifiaction using CNN"
   ]
  },
  {
   "cell_type": "code",
   "execution_count": 49,
   "metadata": {},
   "outputs": [],
   "source": [
    "# Import important library\n",
    "import numpy as np\n",
    "import pandas as ps \n",
    "import matplotlib.pyplot as plt\n",
    "from keras.datasets import mnist\n",
    "from keras.utils import to_categorical\n",
    "from keras.models import Sequential\n",
    "from keras.layers import Conv2D, MaxPooling2D, Dense, Flatten, Activation\n"
   ]
  },
  {
   "cell_type": "code",
   "execution_count": 4,
   "metadata": {},
   "outputs": [
    {
     "name": "stdout",
     "output_type": "stream",
     "text": [
      "Downloading data from https://storage.googleapis.com/tensorflow/tf-keras-datasets/mnist.npz\n",
      "11493376/11490434 [==============================] - 3s 0us/step\n"
     ]
    }
   ],
   "source": [
    "(x_train, y_train),(x_test,y_test) = mnist.load_data()"
   ]
  },
  {
   "cell_type": "code",
   "execution_count": 5,
   "metadata": {},
   "outputs": [
    {
     "name": "stdout",
     "output_type": "stream",
     "text": [
      "(60000, 28, 28)\n",
      "(60000,)\n",
      "(10000, 28, 28)\n",
      "(10000,)\n"
     ]
    }
   ],
   "source": [
    "# Show Data\n",
    "print(x_train.shape)\n",
    "print(y_train.shape)\n",
    "print(x_test.shape)\n",
    "print(y_test.shape)"
   ]
  },
  {
   "cell_type": "code",
   "execution_count": 6,
   "metadata": {},
   "outputs": [
    {
     "data": {
      "image/png": "[encoded data removed]",
      "text/plain": [
       "<Figure size 432x288 with 1 Axes>"
      ]
     },
     "metadata": {
      "needs_background": "light"
     },
     "output_type": "display_data"
    }
   ],
   "source": [
    "# Let's see in image form\n",
    "img_index = 31 # select anything up to 60000\n",
    "plt.imshow(x_train[img_index], cmap = 'gray')\n",
    "plt.show()"
   ]
  },
  {
   "cell_type": "code",
   "execution_count": 7,
   "metadata": {},
   "outputs": [
    {
     "name": "stdout",
     "output_type": "stream",
     "text": [
      "(60000, 28, 28, 1)\n",
      "(10000, 28, 28, 1)\n"
     ]
    }
   ],
   "source": [
    "# Reshaping the images so that it work on Keras API\n",
    "# Keras accept input data as -> (num_img, img_shape, img_chenal)\n",
    "x_train = x_train.reshape(x_train.shape[0],28,28,1)\n",
    "x_test = x_test.reshape(x_test.shape[0],28,28,1)\n",
    "print(x_train.shape)\n",
    "print(x_test.shape)"
   ]
  },
  {
   "cell_type": "code",
   "execution_count": 8,
   "metadata": {},
   "outputs": [],
   "source": [
    "# Data Scaling & Normalization\n",
    "# Making Sure that the values are float so that we can decimal points after division \n",
    "x_train = x_train.astype('float32')\n",
    "x_test = x_test.astype('float32')\n",
    "\n",
    "#Normalization the RBG codes by dividing it to the max RGB values.\n",
    "x_train/=255-0.5\n",
    "x_test/=255-0.5"
   ]
  },
  {
   "cell_type": "code",
   "execution_count": 56,
   "metadata": {},
   "outputs": [],
   "source": [
    "## Creating a Sequential model for CNN in Keras\n",
    "\n",
    "num_filter = 32\n",
    "num_filter1 = 64\n",
    "filter_size = 3\n",
    "pool_size1 = 2\n",
    "\n",
    "model = Sequential()\n",
    "model.add(Conv2D(num_filter, filter_size, strides=(1,1), input_shape=(28,28,1)))\n",
    "model.add(Activation('relu'))\n",
    "model.add(MaxPooling2D(pool_size=pool_size1))\n",
    "\n",
    "model.add(Conv2D(num_filter1, filter_size, strides=(1,1)))\n",
    "model.add(Activation('relu'))\n",
    "model.add(MaxPooling2D(pool_size=pool_size1))\n",
    "\n",
    "\n",
    "model.add(Flatten())\n",
    "model.add(Dense(10,activation = 'softmax'))"
   ]
  },
  {
   "cell_type": "code",
   "execution_count": 57,
   "metadata": {},
   "outputs": [
    {
     "name": "stdout",
     "output_type": "stream",
     "text": [
      "Epoch 1/10\n",
      "1875/1875 [==============================] - 51s 27ms/step - loss: 0.3467 - accuracy: 0.8924 - val_loss: 0.0544 - val_accuracy: 0.9825\n",
      "Epoch 2/10\n",
      "1875/1875 [==============================] - 50s 26ms/step - loss: 0.0563 - accuracy: 0.9826 - val_loss: 0.0371 - val_accuracy: 0.9877\n",
      "Epoch 3/10\n",
      "1875/1875 [==============================] - 73s 39ms/step - loss: 0.0379 - accuracy: 0.9886 - val_loss: 0.0358 - val_accuracy: 0.9880\n",
      "Epoch 4/10\n",
      "1875/1875 [==============================] - 56s 30ms/step - loss: 0.0296 - accuracy: 0.9909 - val_loss: 0.0351 - val_accuracy: 0.9883\n",
      "Epoch 5/10\n",
      "1875/1875 [==============================] - 53s 28ms/step - loss: 0.0219 - accuracy: 0.9929 - val_loss: 0.0400 - val_accuracy: 0.9868\n",
      "Epoch 6/10\n",
      "1875/1875 [==============================] - 52s 28ms/step - loss: 0.0170 - accuracy: 0.9947 - val_loss: 0.0330 - val_accuracy: 0.9897\n",
      "Epoch 7/10\n",
      "1875/1875 [==============================] - 58s 31ms/step - loss: 0.0133 - accuracy: 0.9958 - val_loss: 0.0351 - val_accuracy: 0.9893\n",
      "Epoch 8/10\n",
      "1875/1875 [==============================] - 52s 28ms/step - loss: 0.0112 - accuracy: 0.9960 - val_loss: 0.0341 - val_accuracy: 0.9898\n",
      "Epoch 9/10\n",
      "1875/1875 [==============================] - 50s 27ms/step - loss: 0.0077 - accuracy: 0.9975 - val_loss: 0.0464 - val_accuracy: 0.9888\n",
      "Epoch 10/10\n",
      "1875/1875 [==============================] - 50s 27ms/step - loss: 0.0103 - accuracy: 0.9971 - val_loss: 0.0320 - val_accuracy: 0.9909\n"
     ]
    }
   ],
   "source": [
    "# Compile the model\n",
    "model.compile(optimizer = 'adam', loss = 'categorical_crossentropy', metrics = ['accuracy'])\n",
    "# Train the model\n",
    "model_history = model.fit(x_train, to_categorical(y_train), epochs =10, verbose =1, validation_data=(x_test,to_categorical(y_test)))"
   ]
  },
  {
   "cell_type": "code",
   "execution_count": 58,
   "metadata": {},
   "outputs": [
    {
     "data": {
      "image/png": "[encoded data removed]",
      "text/plain": [
       "<Figure size 432x288 with 1 Axes>"
      ]
     },
     "metadata": {
      "needs_background": "light"
     },
     "output_type": "display_data"
    }
   ],
   "source": [
    "plt.plot(model_history.history['accuracy'])\n",
    "plt.plot(model_history.history['val_accuracy'])\n",
    "plt.title('model accuracy')\n",
    "plt.ylabel('accuracy')\n",
    "plt.xlabel('epoch')\n",
    "plt.legend(['train', 'test'], loc='upper left')\n",
    "plt.show()"
   ]
  },
  {
   "cell_type": "code",
   "execution_count": 59,
   "metadata": {},
   "outputs": [
    {
     "data": {
      "image/png": "[encoded data removed]",
      "text/plain": [
       "<Figure size 432x288 with 1 Axes>"
      ]
     },
     "metadata": {
      "needs_background": "light"
     },
     "output_type": "display_data"
    }
   ],
   "source": [
    "# summarize history for loss\n",
    "plt.plot(model_history.history['loss'])\n",
    "plt.plot(model_history.history['val_loss'])\n",
    "plt.title('model loss')\n",
    "plt.ylabel('loss')\n",
    "plt.xlabel('epoch')\n",
    "plt.legend(['train', 'test'], loc='upper left')\n",
    "plt.show()"
   ]
  },
  {
   "cell_type": "code",
   "execution_count": 60,
   "metadata": {},
   "outputs": [
    {
     "name": "stdout",
     "output_type": "stream",
     "text": [
      "Test Loss 0.0320461243391037\n",
      "Test accuracy 0.9908999800682068\n"
     ]
    }
   ],
   "source": [
    "# Score\n",
    "score = model.evaluate(x_test, to_categorical(y_test), verbose=0)\n",
    "print('Test Loss', score[0])\n",
    "print('Test accuracy', score[1])"
   ]
  },
  {
   "cell_type": "code",
   "execution_count": 39,
   "metadata": {},
   "outputs": [
    {
     "name": "stdout",
     "output_type": "stream",
     "text": [
      "[[4.37183900e-07 1.19467813e-07 3.88237095e-06 6.08315349e-05\n",
      "  3.30035817e-07 2.28872530e-08 1.03206636e-11 9.99925613e-01\n",
      "  1.24787192e-07 8.54737300e-06]\n",
      " [1.86794314e-05 3.80227812e-06 9.98528361e-01 6.17652904e-06\n",
      "  2.22376111e-11 9.71400550e-06 1.41535560e-03 5.72560984e-15\n",
      "  1.79089257e-05 8.11035739e-10]\n",
      " [2.24818432e-05 9.99641657e-01 2.77702420e-05 1.29301793e-06\n",
      "  1.04216953e-04 3.79492235e-06 7.56033023e-06 1.73041932e-04\n",
      "  1.75415535e-05 6.02096463e-07]\n",
      " [9.99832273e-01 5.14318117e-07 1.20494944e-04 3.30156560e-08\n",
      "  1.74478930e-06 1.66638838e-05 2.49094464e-05 9.45394106e-07\n",
      "  9.43949033e-07 1.40121301e-06]\n",
      " [2.81842222e-05 6.17386092e-07 1.18912510e-06 8.01895851e-07\n",
      "  9.99559700e-01 2.87575261e-08 5.88178636e-07 3.15888155e-06\n",
      "  3.34040919e-07 4.05336410e-04]]\n",
      "[7 2 1 0 4]\n",
      "[7 2 1 0 4]\n"
     ]
    }
   ],
   "source": [
    "# Predict the first 5 images\n",
    "prediction = model.predict(x_test[:5])\n",
    "print(prediction)\n",
    "\n",
    "# Print our model Prediction\n",
    "print(np.argmax(prediction, axis=1))\n",
    "\n",
    "#Check our prediction against the grount truth\n",
    "print(y_test[:5])"
   ]
  },
  {
   "cell_type": "code",
   "execution_count": null,
   "metadata": {},
   "outputs": [],
   "source": []
  }
 ],
 "metadata": {
  "kernelspec": {
   "display_name": "Python 3",
   "language": "python",
   "name": "python3"
  },
  "language_info": {
   "codemirror_mode": {
    "name": "ipython",
    "version": 3
   },
   "file_extension": ".py",
   "mimetype": "text/x-python",
   "name": "python",
   "nbconvert_exporter": "python",
   "pygments_lexer": "ipython3",
   "version": "3.8.5"
  }
 },
 "nbformat": 4,
 "nbformat_minor": 4
}
