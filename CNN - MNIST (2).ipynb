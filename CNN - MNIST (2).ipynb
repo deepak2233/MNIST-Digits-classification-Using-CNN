{
 "cells": [
  {
   "cell_type": "markdown",
   "metadata": {},
   "source": [
    "# MNSIT Digit classifiaction using CNN"
   ]
  },
  {
   "cell_type": "code",
   "execution_count": 64,
   "metadata": {},
   "outputs": [],
   "source": [
    "# Import important library\n",
    "import numpy as np\n",
    "import pandas as ps \n",
    "import matplotlib.pyplot as plt\n",
    "from keras.datasets import mnist\n",
    "from keras.utils import to_categorical\n",
    "from keras.models import Sequential\n",
    "from keras.layers import Conv2D, MaxPooling2D, Dense, Flatten, Activation, Dropout\n"
   ]
  },
  {
   "cell_type": "code",
   "execution_count": 4,
   "metadata": {
    "scrolled": true
   },
   "outputs": [
    {
     "name": "stdout",
     "output_type": "stream",
     "text": [
      "Downloading data from https://storage.googleapis.com/tensorflow/tf-keras-datasets/mnist.npz\n",
      "11493376/11490434 [==============================] - 3s 0us/step\n"
     ]
    }
   ],
   "source": [
    "(x_train, y_train),(x_test,y_test) = mnist.load_data()"
   ]
  },
  {
   "cell_type": "code",
   "execution_count": 5,
   "metadata": {},
   "outputs": [
    {
     "name": "stdout",
     "output_type": "stream",
     "text": [
      "(60000, 28, 28)\n",
      "(60000,)\n",
      "(10000, 28, 28)\n",
      "(10000,)\n"
     ]
    }
   ],
   "source": [
    "# Show Data\n",
    "print(x_train.shape)\n",
    "print(y_train.shape)\n",
    "print(x_test.shape)\n",
    "print(y_test.shape)"
   ]
  },
  {
   "cell_type": "code",
   "execution_count": 6,
   "metadata": {},
   "outputs": [
    {
     "data": {
      "image/png": "[encoded data removed]",
      "text/plain": [
       "<Figure size 432x288 with 1 Axes>"
      ]
     },
     "metadata": {
      "needs_background": "light"
     },
     "output_type": "display_data"
    }
   ],
   "source": [
    "# Let's see in image form\n",
    "img_index = 31 # select anything up to 60000\n",
    "plt.imshow(x_train[img_index], cmap = 'gray')\n",
    "plt.show()"
   ]
  },
  {
   "cell_type": "code",
   "execution_count": 7,
   "metadata": {},
   "outputs": [
    {
     "name": "stdout",
     "output_type": "stream",
     "text": [
      "(60000, 28, 28, 1)\n",
      "(10000, 28, 28, 1)\n"
     ]
    }
   ],
   "source": [
    "# Reshaping the images so that it work on Keras API\n",
    "# Keras accept input data as -> (num_img, img_shape, img_chenal)\n",
    "x_train = x_train.reshape(x_train.shape[0],28,28,1)\n",
    "x_test = x_test.reshape(x_test.shape[0],28,28,1)\n",
    "print(x_train.shape)\n",
    "print(x_test.shape)"
   ]
  },
  {
   "cell_type": "code",
   "execution_count": 8,
   "metadata": {},
   "outputs": [],
   "source": [
    "# Data Scaling & Normalization\n",
    "# Making Sure that the values are float so that we can decimal points after division \n",
    "x_train = x_train.astype('float32')\n",
    "x_test = x_test.astype('float32')\n",
    "\n",
    "#Normalization the RBG codes by dividing it to the max RGB values.\n",
    "x_train/=255-0.5\n",
    "x_test/=255-0.5"
   ]
  },
  {
   "cell_type": "code",
   "execution_count": 65,
   "metadata": {},
   "outputs": [
    {
     "name": "stdout",
     "output_type": "stream",
     "text": [
      "Model: \"sequential_12\"\n",
      "_________________________________________________________________\n",
      "Layer (type)                 Output Shape              Param #   \n",
      "=================================================================\n",
      "conv2d_17 (Conv2D)           (None, 26, 26, 32)        320       \n",
      "_________________________________________________________________\n",
      "conv2d_18 (Conv2D)           (None, 24, 24, 64)        18496     \n",
      "_________________________________________________________________\n",
      "dropout (Dropout)            (None, 24, 24, 64)        0         \n",
      "_________________________________________________________________\n",
      "max_pooling2d_10 (MaxPooling (None, 12, 12, 64)        0         \n",
      "_________________________________________________________________\n",
      "conv2d_19 (Conv2D)           (None, 8, 8, 32)          51232     \n",
      "_________________________________________________________________\n",
      "conv2d_20 (Conv2D)           (None, 4, 4, 8)           6408      \n",
      "_________________________________________________________________\n",
      "dropout_1 (Dropout)          (None, 4, 4, 8)           0         \n",
      "_________________________________________________________________\n",
      "max_pooling2d_11 (MaxPooling (None, 2, 2, 8)           0         \n",
      "_________________________________________________________________\n",
      "flatten_6 (Flatten)          (None, 32)                0         \n",
      "_________________________________________________________________\n",
      "dense_6 (Dense)              (None, 10)                330       \n",
      "=================================================================\n",
      "Total params: 76,786\n",
      "Trainable params: 76,786\n",
      "Non-trainable params: 0\n",
      "_________________________________________________________________\n"
     ]
    }
   ],
   "source": [
    "## Creating a Sequential model for CNN in Keras\n",
    "\n",
    "num_filter = 32\n",
    "num_filter1 = 64\n",
    "num_filter2 = 8\n",
    "filter_size = 3\n",
    "filter_size1 = 5\n",
    "pool_size1 = 2\n",
    "\n",
    "model = Sequential()\n",
    "model.add(Conv2D(num_filter, filter_size, strides=(1,1), activation = 'relu', input_shape=(28,28,1)))\n",
    "model.add(Conv2D(num_filter1, filter_size, strides=(1,1), activation = 'relu'))\n",
    "model.add(Dropout(0.25))\n",
    "model.add(MaxPooling2D(pool_size=pool_size1))\n",
    "\n",
    "model.add(Conv2D(num_filter, filter_size1, strides=(1,1), activation = 'relu'))\n",
    "model.add(Conv2D(num_filter2, filter_size1, strides=(1,1), activation = 'relu'))\n",
    "model.add(Dropout(0.25))\n",
    "model.add(MaxPooling2D(pool_size=pool_size1))\n",
    "\n",
    "\n",
    "model.add(Flatten())\n",
    "model.add(Dense(10,activation = 'softmax'))\n",
    "model.summary()"
   ]
  },
  {
   "cell_type": "code",
   "execution_count": 66,
   "metadata": {},
   "outputs": [
    {
     "name": "stdout",
     "output_type": "stream",
     "text": [
      "Epoch 1/10\n",
      "1875/1875 [==============================] - 296s 157ms/step - loss: 0.4221 - accuracy: 0.8659 - val_loss: 0.0665 - val_accuracy: 0.9841\n",
      "Epoch 2/10\n",
      "1875/1875 [==============================] - 259s 138ms/step - loss: 0.0641 - accuracy: 0.9804 - val_loss: 0.0601 - val_accuracy: 0.9873\n",
      "Epoch 3/10\n",
      "1875/1875 [==============================] - 240s 128ms/step - loss: 0.0454 - accuracy: 0.9860 - val_loss: 0.0512 - val_accuracy: 0.9909\n",
      "Epoch 4/10\n",
      "1875/1875 [==============================] - 237s 127ms/step - loss: 0.0361 - accuracy: 0.9887 - val_loss: 0.0336 - val_accuracy: 0.9913\n",
      "Epoch 5/10\n",
      "1875/1875 [==============================] - 237s 126ms/step - loss: 0.0304 - accuracy: 0.9908 - val_loss: 0.0296 - val_accuracy: 0.9920\n",
      "Epoch 6/10\n",
      "1875/1875 [==============================] - 239s 128ms/step - loss: 0.0261 - accuracy: 0.9914 - val_loss: 0.0292 - val_accuracy: 0.9920\n",
      "Epoch 7/10\n",
      "1875/1875 [==============================] - 238s 127ms/step - loss: 0.0220 - accuracy: 0.9930 - val_loss: 0.0316 - val_accuracy: 0.9914\n",
      "Epoch 8/10\n",
      "1875/1875 [==============================] - 235s 126ms/step - loss: 0.0203 - accuracy: 0.9931 - val_loss: 0.0327 - val_accuracy: 0.9897\n",
      "Epoch 9/10\n",
      "1875/1875 [==============================] - 243s 130ms/step - loss: 0.0179 - accuracy: 0.9942 - val_loss: 0.0267 - val_accuracy: 0.9928\n",
      "Epoch 10/10\n",
      "1875/1875 [==============================] - 233s 124ms/step - loss: 0.0172 - accuracy: 0.9940 - val_loss: 0.0240 - val_accuracy: 0.9930\n"
     ]
    }
   ],
   "source": [
    "# Compile the model\n",
    "model.compile(optimizer = 'adam', loss = 'categorical_crossentropy', metrics = ['accuracy'])\n",
    "# Train the model\n",
    "model_history = model.fit(x_train, to_categorical(y_train), epochs =10, verbose =1, validation_data=(x_test,to_categorical(y_test)))"
   ]
  },
  {
   "cell_type": "code",
   "execution_count": 67,
   "metadata": {},
   "outputs": [
    {
     "data": {
      "image/png": "[encoded data removed]",
      "text/plain": [
       "<Figure size 432x288 with 1 Axes>"
      ]
     },
     "metadata": {
      "needs_background": "light"
     },
     "output_type": "display_data"
    }
   ],
   "source": [
    "plt.plot(model_history.history['accuracy'])\n",
    "plt.plot(model_history.history['val_accuracy'])\n",
    "plt.title('model accuracy')\n",
    "plt.ylabel('accuracy')\n",
    "plt.xlabel('epoch')\n",
    "plt.legend(['train', 'test'], loc='upper left')\n",
    "plt.show()"
   ]
  },
  {
   "cell_type": "code",
   "execution_count": 68,
   "metadata": {},
   "outputs": [
    {
     "data": {
      "image/png": "[encoded data removed]",
      "text/plain": [
       "<Figure size 432x288 with 1 Axes>"
      ]
     },
     "metadata": {
      "needs_background": "light"
     },
     "output_type": "display_data"
    }
   ],
   "source": [
    "# summarize history for loss\n",
    "plt.plot(model_history.history['loss'])\n",
    "plt.plot(model_history.history['val_loss'])\n",
    "plt.title('model loss')\n",
    "plt.ylabel('loss')\n",
    "plt.xlabel('epoch')\n",
    "plt.legend(['train', 'test'], loc='upper left')\n",
    "plt.show()"
   ]
  },
  {
   "cell_type": "code",
   "execution_count": 69,
   "metadata": {},
   "outputs": [
    {
     "name": "stdout",
     "output_type": "stream",
     "text": [
      "Test Loss 0.02402031607925892\n",
      "Test accuracy 0.9929999709129333\n"
     ]
    }
   ],
   "source": [
    "# Score\n",
    "score = model.evaluate(x_test, to_categorical(y_test), verbose=0)\n",
    "print('Test Loss', score[0])\n",
    "print('Test accuracy', score[1])"
   ]
  },
  {
   "cell_type": "code",
   "execution_count": 70,
   "metadata": {},
   "outputs": [
    {
     "name": "stdout",
     "output_type": "stream",
     "text": [
      "[[9.46446974e-08 3.90284322e-06 1.16913020e-06 5.72201725e-06\n",
      "  4.53662636e-08 2.25240137e-06 3.43918054e-11 9.99986410e-01\n",
      "  8.03836375e-09 3.97814460e-07]\n",
      " [2.39737619e-05 2.37509623e-04 9.99663591e-01 7.51758034e-06\n",
      "  1.36075305e-05 7.05740311e-09 3.74400079e-05 9.06312653e-06\n",
      "  7.34431114e-06 6.06631856e-09]\n",
      " [5.65597098e-08 9.99441564e-01 1.91062145e-06 5.39579958e-07\n",
      "  1.25774415e-04 3.44519503e-06 2.24948099e-06 4.14777402e-04\n",
      "  6.47851448e-06 3.20590789e-06]\n",
      " [9.99265134e-01 8.08733636e-10 4.10367902e-05 1.83681605e-05\n",
      "  1.00765118e-09 1.40192360e-05 3.69140587e-04 6.86094779e-07\n",
      "  3.08296039e-05 2.60775181e-04]\n",
      " [4.97407616e-13 2.64164413e-07 5.61280578e-10 5.22184553e-12\n",
      "  9.99990582e-01 1.40063777e-11 2.29449723e-10 1.22663781e-08\n",
      "  5.50880304e-06 3.68428709e-06]]\n",
      "[7 2 1 0 4]\n",
      "[7 2 1 0 4]\n"
     ]
    }
   ],
   "source": [
    "# Predict the first 5 images\n",
    "prediction = model.predict(x_test[:5])\n",
    "print(prediction)\n",
    "\n",
    "# Print our model Prediction\n",
    "print(np.argmax(prediction, axis=1))\n",
    "\n",
    "#Check our prediction against the grount truth\n",
    "print(y_test[:5])"
   ]
  },
  {
   "cell_type": "code",
   "execution_count": null,
   "metadata": {},
   "outputs": [],
   "source": []
  }
 ],
 "metadata": {
  "kernelspec": {
   "display_name": "Python 3",
   "language": "python",
   "name": "python3"
  },
  "language_info": {
   "codemirror_mode": {
    "name": "ipython",
    "version": 3
   },
   "file_extension": ".py",
   "mimetype": "text/x-python",
   "name": "python",
   "nbconvert_exporter": "python",
   "pygments_lexer": "ipython3",
   "version": "3.8.5"
  }
 },
 "nbformat": 4,
 "nbformat_minor": 4
}
